{
 "cells": [
  {
   "cell_type": "code",
   "execution_count": 1,
   "id": "f03f3cf6",
   "metadata": {},
   "outputs": [
    {
     "name": "stdout",
     "output_type": "stream",
     "text": [
      "Downloading http://yann.lecun.com/exdb/mnist/train-images-idx3-ubyte.gz\n",
      "Downloading http://yann.lecun.com/exdb/mnist/train-images-idx3-ubyte.gz to ./data/MNIST/raw/train-images-idx3-ubyte.gz\n"
     ]
    },
    {
     "name": "stderr",
     "output_type": "stream",
     "text": [
      "100%|██████████| 9912422/9912422 [00:00<00:00, 75289538.32it/s]\n"
     ]
    },
    {
     "name": "stdout",
     "output_type": "stream",
     "text": [
      "Extracting ./data/MNIST/raw/train-images-idx3-ubyte.gz to ./data/MNIST/raw\n",
      "\n",
      "Downloading http://yann.lecun.com/exdb/mnist/train-labels-idx1-ubyte.gz\n",
      "Downloading http://yann.lecun.com/exdb/mnist/train-labels-idx1-ubyte.gz to ./data/MNIST/raw/train-labels-idx1-ubyte.gz\n"
     ]
    },
    {
     "name": "stderr",
     "output_type": "stream",
     "text": [
      "100%|██████████| 28881/28881 [00:00<00:00, 26752582.56it/s]"
     ]
    },
    {
     "name": "stdout",
     "output_type": "stream",
     "text": [
      "Extracting ./data/MNIST/raw/train-labels-idx1-ubyte.gz to ./data/MNIST/raw\n",
      "\n",
      "Downloading http://yann.lecun.com/exdb/mnist/t10k-images-idx3-ubyte.gz\n"
     ]
    },
    {
     "name": "stderr",
     "output_type": "stream",
     "text": [
      "\n"
     ]
    },
    {
     "name": "stdout",
     "output_type": "stream",
     "text": [
      "Downloading http://yann.lecun.com/exdb/mnist/t10k-images-idx3-ubyte.gz to ./data/MNIST/raw/t10k-images-idx3-ubyte.gz\n"
     ]
    },
    {
     "name": "stderr",
     "output_type": "stream",
     "text": [
      "100%|██████████| 1648877/1648877 [00:00<00:00, 30494289.49it/s]\n"
     ]
    },
    {
     "name": "stdout",
     "output_type": "stream",
     "text": [
      "Extracting ./data/MNIST/raw/t10k-images-idx3-ubyte.gz to ./data/MNIST/raw\n",
      "\n",
      "Downloading http://yann.lecun.com/exdb/mnist/t10k-labels-idx1-ubyte.gz\n",
      "Downloading http://yann.lecun.com/exdb/mnist/t10k-labels-idx1-ubyte.gz to ./data/MNIST/raw/t10k-labels-idx1-ubyte.gz\n"
     ]
    },
    {
     "name": "stderr",
     "output_type": "stream",
     "text": [
      "100%|██████████| 4542/4542 [00:00<00:00, 5096449.64it/s]\n"
     ]
    },
    {
     "name": "stdout",
     "output_type": "stream",
     "text": [
      "Extracting ./data/MNIST/raw/t10k-labels-idx1-ubyte.gz to ./data/MNIST/raw\n",
      "\n",
      "Epoch [1/5], Step [300/len(train_loader)], Loss: 2.1833\n",
      "Epoch [1/5], Step [600/len(train_loader)], Loss: 1.5932\n",
      "Epoch [1/5], Step [900/len(train_loader)], Loss: 0.8008\n",
      "Epoch [1/5], Step [1200/len(train_loader)], Loss: 0.6872\n",
      "Epoch [1/5], Step [1500/len(train_loader)], Loss: 0.5596\n",
      "Epoch [1/5], Step [1800/len(train_loader)], Loss: 0.4285\n",
      "Epoch [2/5], Step [300/len(train_loader)], Loss: 0.2938\n",
      "Epoch [2/5], Step [600/len(train_loader)], Loss: 0.2118\n",
      "Epoch [2/5], Step [900/len(train_loader)], Loss: 0.2836\n",
      "Epoch [2/5], Step [1200/len(train_loader)], Loss: 0.5034\n",
      "Epoch [2/5], Step [1500/len(train_loader)], Loss: 0.4266\n",
      "Epoch [2/5], Step [1800/len(train_loader)], Loss: 0.2656\n",
      "Epoch [3/5], Step [300/len(train_loader)], Loss: 0.2123\n",
      "Epoch [3/5], Step [600/len(train_loader)], Loss: 0.4548\n",
      "Epoch [3/5], Step [900/len(train_loader)], Loss: 0.3895\n",
      "Epoch [3/5], Step [1200/len(train_loader)], Loss: 0.1704\n",
      "Epoch [3/5], Step [1500/len(train_loader)], Loss: 0.2835\n",
      "Epoch [3/5], Step [1800/len(train_loader)], Loss: 0.4523\n",
      "Epoch [4/5], Step [300/len(train_loader)], Loss: 0.2216\n",
      "Epoch [4/5], Step [600/len(train_loader)], Loss: 0.0881\n",
      "Epoch [4/5], Step [900/len(train_loader)], Loss: 0.1756\n",
      "Epoch [4/5], Step [1200/len(train_loader)], Loss: 0.2213\n",
      "Epoch [4/5], Step [1500/len(train_loader)], Loss: 0.1257\n",
      "Epoch [4/5], Step [1800/len(train_loader)], Loss: 0.3266\n",
      "Epoch [5/5], Step [300/len(train_loader)], Loss: 0.1436\n",
      "Epoch [5/5], Step [600/len(train_loader)], Loss: 0.1839\n",
      "Epoch [5/5], Step [900/len(train_loader)], Loss: 0.1542\n",
      "Epoch [5/5], Step [1200/len(train_loader)], Loss: 0.1787\n",
      "Epoch [5/5], Step [1500/len(train_loader)], Loss: 0.0589\n",
      "Epoch [5/5], Step [1800/len(train_loader)], Loss: 0.0918\n",
      "Accuracy: 94.1%\n"
     ]
    }
   ],
   "source": [
    "import torch\n",
    "import torch.nn as nn\n",
    "import torch.optim as optim\n",
    "import torchvision\n",
    "import torchvision.transforms as transforms\n",
    "from torch.utils.data import DataLoader\n",
    "\n",
    "# Load MNIST dataset\n",
    "train_data = torchvision.datasets.MNIST(\n",
    "    root='./data', train=True, transform=transforms.ToTensor(), download=True)\n",
    "test_data = torchvision.datasets.MNIST(\n",
    "    root='./data', train=False, transform=transforms.ToTensor())\n",
    "\n",
    "# Data loader\n",
    "train_loader = DataLoader(dataset=train_data, batch_size=32, shuffle=True)\n",
    "test_loader = DataLoader(dataset=test_data, batch_size=32, shuffle=False)\n",
    "\n",
    "# Neural network model\n",
    "class Net(nn.Module):\n",
    "    def __init__(self):\n",
    "        super(Net, self).__init__()\n",
    "        self.fc1 = nn.Linear(28 * 28, 128)\n",
    "        self.fc2 = nn.Linear(128, 64)\n",
    "        self.fc3 = nn.Linear(64, 10)\n",
    "\n",
    "    def forward(self, x):\n",
    "        x = x.view(-1, 28 * 28)\n",
    "        x = torch.relu(self.fc1(x))\n",
    "        x = torch.relu(self.fc2(x))\n",
    "        x = self.fc3(x)\n",
    "        return x\n",
    "\n",
    "# Initialize model, loss function, and optimizer\n",
    "model = Net()\n",
    "criterion = nn.CrossEntropyLoss()\n",
    "optimizer = optim.SGD(model.parameters(), lr=0.01)\n",
    "\n",
    "# Training loop\n",
    "for epoch in range(5):\n",
    "    for i, (images, labels) in enumerate(train_loader):\n",
    "        # Forward pass\n",
    "        outputs = model(images)\n",
    "        loss = criterion(outputs, labels)\n",
    "\n",
    "        # Backward pass and optimization\n",
    "        optimizer.zero_grad()\n",
    "        loss.backward()\n",
    "        optimizer.step()\n",
    "\n",
    "        if (i + 1) % 300 == 0:\n",
    "            print(f'Epoch [{epoch+1}/5], Step [{i+1}/len(train_loader)], Loss: {loss.item():.4f}')\n",
    "\n",
    "# Test the model\n",
    "correct = 0\n",
    "total = 0\n",
    "with torch.no_grad():\n",
    "    for images, labels in test_loader:\n",
    "        outputs = model(images)\n",
    "        _, predicted = torch.max(outputs.data, 1)\n",
    "        total += labels.size(0)\n",
    "        correct += (predicted == labels).sum().item()\n",
    "\n",
    "print(f'Accuracy: {100 * correct / total}%')"
   ]
  },
  {
   "cell_type": "code",
   "execution_count": null,
   "id": "cd17c1cd",
   "metadata": {},
   "outputs": [],
   "source": []
  }
 ],
 "metadata": {
  "kernelspec": {
   "display_name": "Python 3 (ipykernel)",
   "language": "python",
   "name": "python3"
  },
  "language_info": {
   "codemirror_mode": {
    "name": "ipython",
    "version": 3
   },
   "file_extension": ".py",
   "mimetype": "text/x-python",
   "name": "python",
   "nbconvert_exporter": "python",
   "pygments_lexer": "ipython3",
   "version": "3.10.11"
  }
 },
 "nbformat": 4,
 "nbformat_minor": 5
}
